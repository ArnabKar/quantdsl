{
 "cells": [
  {
   "cell_type": "code",
   "execution_count": 1,
   "metadata": {
    "collapsed": true
   },
   "outputs": [
    {
     "name": "stdout",
     "output_type": "stream",
     "text": [
      "Requirement already satisfied: quantdsl in /Users/john/PyCharmProjects/quantdsl\r\nRequirement already satisfied: argh in /Users/john/.virtualenvs/quantdsl-py36/lib/python3.6/site-packages (from quantdsl)\r\nRequirement already satisfied: mock==1.0.1 in /Users/john/.virtualenvs/quantdsl-py36/lib/python3.6/site-packages (from quantdsl)\r\nRequirement already satisfied: scipy in /Users/john/.virtualenvs/quantdsl-py36/lib/python3.6/site-packages (from quantdsl)\r\nRequirement already satisfied: python-dateutil==2.2 in /Users/john/.virtualenvs/quantdsl-py36/lib/python3.6/site-packages (from quantdsl)\r\nRequirement already satisfied: requests in /Users/john/.virtualenvs/quantdsl-py36/lib/python3.6/site-packages (from quantdsl)\r\n"
     ]
    },
    {
     "name": "stdout",
     "output_type": "stream",
     "text": [
      "Requirement already satisfied: six==1.7.3 in /Users/john/.virtualenvs/quantdsl-py36/lib/python3.6/site-packages (from quantdsl)\r\nRequirement already satisfied: eventsourcing==0.9.4 in /Users/john/.virtualenvs/quantdsl-py36/lib/python3.6/site-packages (from quantdsl)\r\nRequirement already satisfied: pytz in /Users/john/.virtualenvs/quantdsl-py36/lib/python3.6/site-packages (from quantdsl)\r\nRequirement already satisfied: blist in /Users/john/.virtualenvs/quantdsl-py36/lib/python3.6/site-packages (from quantdsl)\r\nRequirement already satisfied: numpy>=1.8.2 in /Users/john/.virtualenvs/quantdsl-py36/lib/python3.6/site-packages (from scipy->quantdsl)\r\nRequirement already satisfied: idna<2.6,>=2.5 in /Users/john/.virtualenvs/quantdsl-py36/lib/python3.6/site-packages (from requests->quantdsl)\r\n"
     ]
    },
    {
     "name": "stdout",
     "output_type": "stream",
     "text": [
      "Requirement already satisfied: certifi>=2017.4.17 in /Users/john/.virtualenvs/quantdsl-py36/lib/python3.6/site-packages (from requests->quantdsl)\r\nRequirement already satisfied: chardet<3.1.0,>=3.0.2 in /Users/john/.virtualenvs/quantdsl-py36/lib/python3.6/site-packages (from requests->quantdsl)\r\nRequirement already satisfied: urllib3<1.22,>=1.21.1 in /Users/john/.virtualenvs/quantdsl-py36/lib/python3.6/site-packages (from requests->quantdsl)\r\n"
     ]
    }
   ],
   "source": [
    "!pip install quantdsl"
   ]
  },
  {
   "cell_type": "code",
   "execution_count": 3,
   "metadata": {},
   "outputs": [
    {
     "name": "stdout",
     "output_type": "stream",
     "text": [
      "Overwriting powerplant.py\n"
     ]
    }
   ],
   "source": [
    "%%writefile powerplant.py\n",
    "from quantdsl.semantics import Choice, TimeDelta, Wait, inline\n",
    "\n",
    "\n",
    "def PowerPlant(start, end, temp):\n",
    "    if (start < end):\n",
    "        Wait(start, Choice(\n",
    "            PowerPlant(Tomorrow(start), end, Hot()) + ProfitFromRunning(start, temp),\n",
    "            PowerPlant(Tomorrow(start), end, Stopped(temp))\n",
    "        ))\n",
    "    else:\n",
    "        return 0\n",
    "\n",
    "\n",
    "@inline\n",
    "def Power(start):\n",
    "    DayAhead(start, 'POWER')\n",
    "\n",
    "\n",
    "@inline\n",
    "def Gas(start):\n",
    "    DayAhead(start, 'GAS')\n",
    "\n",
    "\n",
    "@inline\n",
    "def DayAhead(start, name):\n",
    "    ForwardMarket(Tomorrow(start), name)\n",
    "\n",
    "    \n",
    "@inline\n",
    "def Tomorrow(start):\n",
    "    start + TimeDelta('1d')\n",
    "\n",
    "\n",
    "@inline\n",
    "def ProfitFromRunning(start, temp):\n",
    "    if temp == Cold():\n",
    "        return 0.3 * Power(start) - Gas(start)\n",
    "    elif temp == Warm():\n",
    "        return 0.6 * Power(start) - Gas(start)\n",
    "    else:\n",
    "        return Power(start) - Gas(start)\n",
    "\n",
    "\n",
    "@inline\n",
    "def Stopped(temp):\n",
    "    if temp == Hot():\n",
    "        Warm()\n",
    "    else:\n",
    "        Cold()\n",
    "\n",
    "\n",
    "@inline\n",
    "def Hot():\n",
    "    2\n",
    "\n",
    "\n",
    "@inline\n",
    "def Warm():\n",
    "    1\n",
    "\n",
    "\n",
    "@inline\n",
    "def Cold():\n",
    "    0\n"
   ]
  },
  {
   "cell_type": "code",
   "execution_count": 4,
   "metadata": {},
   "outputs": [],
   "source": [
    "gas_and_power = {\n",
    "    'name': 'quantdsl.priceprocess.blackscholes.BlackScholesPriceProcess',\n",
    "    'market': ['GAS', 'POWER'],\n",
    "    'sigma': [0.3, 0.3],\n",
    "    'rho': [[1.0, 0.8], [0.8, 1.0]],\n",
    "    'curve': {\n",
    "            'GAS': [\n",
    "                ('2012-1-1', 11.0),\n",
    "                ('2012-1-2', 11.0),\n",
    "                ('2012-1-3', 1.0),\n",
    "                ('2012-1-4', 1.0),\n",
    "                ('2012-1-5', 11.0),\n",
    "            ],\n",
    "            'POWER': [\n",
    "                ('2012-1-1', 1.0),\n",
    "                ('2012-1-2', 1.0),\n",
    "                ('2012-1-3', 11.0),\n",
    "                ('2012-1-4', 11.0),\n",
    "                ('2012-1-5', 10.0),\n",
    "            ]\n",
    "        }\n",
    "}"
   ]
  },
  {
   "cell_type": "code",
   "execution_count": 6,
   "metadata": {},
   "outputs": [
    {
     "name": "stdout",
     "output_type": "stream",
     "text": [
      "\rCompiled 1 nodes "
     ]
    },
    {
     "name": "stdout",
     "output_type": "stream",
     "text": [
      "\rCompiled 2 nodes "
     ]
    },
    {
     "name": "stdout",
     "output_type": "stream",
     "text": [
      "\rCompiled 3 nodes "
     ]
    },
    {
     "name": "stdout",
     "output_type": "stream",
     "text": [
      "\rCompiled 4 nodes "
     ]
    },
    {
     "name": "stdout",
     "output_type": "stream",
     "text": [
      "\rCompiled 5 nodes "
     ]
    },
    {
     "name": "stdout",
     "output_type": "stream",
     "text": [
      "\rCompiled 6 nodes "
     ]
    },
    {
     "name": "stdout",
     "output_type": "stream",
     "text": [
      "\rCompiled 7 nodes "
     ]
    },
    {
     "name": "stdout",
     "output_type": "stream",
     "text": [
      "\rCompiled 8 nodes "
     ]
    },
    {
     "name": "stdout",
     "output_type": "stream",
     "text": [
      "\rCompiled 9 nodes "
     ]
    },
    {
     "name": "stdout",
     "output_type": "stream",
     "text": [
      "\rCompiled 10 nodes "
     ]
    },
    {
     "name": "stdout",
     "output_type": "stream",
     "text": [
      "\rCompiled 11 nodes "
     ]
    },
    {
     "name": "stdout",
     "output_type": "stream",
     "text": [
      "\rCompiled 12 nodes "
     ]
    },
    {
     "name": "stdout",
     "output_type": "stream",
     "text": [
      "\rCompiled 13 nodes "
     ]
    },
    {
     "name": "stdout",
     "output_type": "stream",
     "text": [
      "\rCompiled 14 nodes "
     ]
    },
    {
     "name": "stdout",
     "output_type": "stream",
     "text": [
      "\rCompiled 15 nodes "
     ]
    },
    {
     "name": "stdout",
     "output_type": "stream",
     "text": [
      "\rCompiled 16 nodes "
     ]
    },
    {
     "name": "stdout",
     "output_type": "stream",
     "text": [
      "\nCompilation in 0.098s\n"
     ]
    },
    {
     "name": "stdout",
     "output_type": "stream",
     "text": [
      "Simulation in 0.114s\nStarting 112 node evaluations, please wait...\n"
     ]
    },
    {
     "name": "stdout",
     "output_type": "stream",
     "text": [
      "\r3/112 0.01% complete 2782.93 eval/s running 0s eta 12s\r4/112 0.01% complete 2779.71 eval/s running 0s eta 12s\r5/112 0.02% complete 2370.79 eval/s running 0s eta 14s\r2/112 0.01% complete 4089.98 eval/s running 0s eta 8s"
     ]
    },
    {
     "name": "stdout",
     "output_type": "stream",
     "text": [
      "\r5/112 0.02% complete 1460.28 eval/s running 0s eta 23s\r5/112 0.02% complete 648.51 eval/s running 0s eta 51s\r5/112 0.02% complete 570.78 eval/s running 0s eta 58s"
     ]
    },
    {
     "name": "stdout",
     "output_type": "stream",
     "text": [
      "\r5/112 0.02% complete 528.82 eval/s running 0s eta 62s"
     ]
    },
    {
     "name": "stdout",
     "output_type": "stream",
     "text": [
      "\r6/112 1.14% complete 478.51 eval/s running 0s eta 1s"
     ]
    },
    {
     "name": "stdout",
     "output_type": "stream",
     "text": [
      "\r7/112 2.26% complete 115.15 eval/s running 0s eta 3s"
     ]
    },
    {
     "name": "stdout",
     "output_type": "stream",
     "text": [
      "\r8/112 3.38% complete 82.46 eval/s running 0s eta 3s"
     ]
    },
    {
     "name": "stdout",
     "output_type": "stream",
     "text": [
      "\r9/112 4.50% complete 68.01 eval/s running 0s eta 3s"
     ]
    },
    {
     "name": "stdout",
     "output_type": "stream",
     "text": [
      "\r10/112 5.62% complete 69.08 eval/s running 0s eta 2s"
     ]
    },
    {
     "name": "stdout",
     "output_type": "stream",
     "text": [
      "\r11/112 6.74% complete 66.93 eval/s running 0s eta 2s\r12/112 7.86% complete 63.42 eval/s running 0s eta 2s"
     ]
    },
    {
     "name": "stdout",
     "output_type": "stream",
     "text": [
      "\r13/112 8.98% complete 68.53 eval/s running 0s eta 2s"
     ]
    },
    {
     "name": "stdout",
     "output_type": "stream",
     "text": [
      "\r14/112 10.10% complete 71.89 eval/s running 0s eta 2s"
     ]
    },
    {
     "name": "stdout",
     "output_type": "stream",
     "text": [
      "\r15/112 11.19% complete 73.11 eval/s running 0s eta 2s"
     ]
    },
    {
     "name": "stdout",
     "output_type": "stream",
     "text": [
      "\r16/112 12.31% complete 76.51 eval/s running 0s eta 1s\r17/112 13.40% complete 71.12 eval/s running 0s eta 2s\r16/112 12.31% complete 67.09 eval/s running 0s eta 2s"
     ]
    },
    {
     "name": "stdout",
     "output_type": "stream",
     "text": [
      "\r18/112 14.49% complete 74.31 eval/s running 1s eta 1s"
     ]
    },
    {
     "name": "stdout",
     "output_type": "stream",
     "text": [
      "\r19/112 15.61% complete 64.90 eval/s running 1s eta 2s"
     ]
    },
    {
     "name": "stdout",
     "output_type": "stream",
     "text": [
      "\r20/112 16.70% complete 62.13 eval/s running 1s eta 2s"
     ]
    },
    {
     "name": "stdout",
     "output_type": "stream",
     "text": [
      "\r21/112 17.82% complete 58.54 eval/s running 1s eta 2s"
     ]
    },
    {
     "name": "stdout",
     "output_type": "stream",
     "text": [
      "\r23/112 20.06% complete 52.58 eval/s running 1s eta 2s\r22/112 18.94% complete 59.77 eval/s running 1s eta 2s"
     ]
    },
    {
     "name": "stdout",
     "output_type": "stream",
     "text": [
      "\r23/112 20.06% complete 52.23 eval/s running 1s eta 2s"
     ]
    },
    {
     "name": "stdout",
     "output_type": "stream",
     "text": [
      "\r24/112 21.15% complete 53.24 eval/s running 1s eta 2s"
     ]
    },
    {
     "name": "stdout",
     "output_type": "stream",
     "text": [
      "\r24/112 21.15% complete 52.87 eval/s running 1s eta 2s"
     ]
    },
    {
     "name": "stdout",
     "output_type": "stream",
     "text": [
      "\r25/112 22.27% complete 53.88 eval/s running 1s eta 2s"
     ]
    },
    {
     "name": "stdout",
     "output_type": "stream",
     "text": [
      "\r26/112 23.39% complete 50.75 eval/s running 1s eta 2s"
     ]
    },
    {
     "name": "stdout",
     "output_type": "stream",
     "text": [
      "\r26/112 23.39% complete 50.72 eval/s running 1s eta 2s"
     ]
    },
    {
     "name": "stdout",
     "output_type": "stream",
     "text": [
      "\r27/112 24.51% complete 52.18 eval/s running 1s eta 2s"
     ]
    },
    {
     "name": "stdout",
     "output_type": "stream",
     "text": [
      "\r28/112 25.63% complete 50.14 eval/s running 1s eta 2s"
     ]
    },
    {
     "name": "stdout",
     "output_type": "stream",
     "text": [
      "\r29/112 26.72% complete 51.34 eval/s running 1s eta 2s"
     ]
    },
    {
     "name": "stdout",
     "output_type": "stream",
     "text": [
      "\r30/112 27.84% complete 51.17 eval/s running 1s eta 2s\r31/112 28.96% complete 51.30 eval/s running 1s eta 1s\r32/112 30.05% complete 52.93 eval/s running 1s eta 1s"
     ]
    },
    {
     "name": "stdout",
     "output_type": "stream",
     "text": [
      "\r33/112 31.13% complete 53.80 eval/s running 1s eta 1s"
     ]
    },
    {
     "name": "stdout",
     "output_type": "stream",
     "text": [
      "\r34/112 32.26% complete 52.59 eval/s running 1s eta 1s"
     ]
    },
    {
     "name": "stdout",
     "output_type": "stream",
     "text": [
      "\r35/112 33.38% complete 53.46 eval/s running 1s eta 1s"
     ]
    },
    {
     "name": "stdout",
     "output_type": "stream",
     "text": [
      "\r36/112 34.46% complete 52.54 eval/s running 1s eta 1s"
     ]
    },
    {
     "name": "stdout",
     "output_type": "stream",
     "text": [
      "\r37/112 35.59% complete 53.83 eval/s running 1s eta 1s"
     ]
    },
    {
     "name": "stdout",
     "output_type": "stream",
     "text": [
      "\r38/112 36.71% complete 53.69 eval/s running 1s eta 1s"
     ]
    },
    {
     "name": "stdout",
     "output_type": "stream",
     "text": [
      "\r40/112 38.91% complete 52.52 eval/s running 1s eta 1s"
     ]
    },
    {
     "name": "stdout",
     "output_type": "stream",
     "text": [
      "\r39/112 37.79% complete 52.66 eval/s running 1s eta 1s"
     ]
    },
    {
     "name": "stdout",
     "output_type": "stream",
     "text": [
      "\r42/112 41.16% complete 50.33 eval/s running 1s eta 1s"
     ]
    },
    {
     "name": "stdout",
     "output_type": "stream",
     "text": [
      "\r41/112 40.04% complete 53.08 eval/s running 1s eta 1s"
     ]
    },
    {
     "name": "stdout",
     "output_type": "stream",
     "text": [
      "\r43/112 42.24% complete 51.51 eval/s running 1s eta 1s"
     ]
    },
    {
     "name": "stdout",
     "output_type": "stream",
     "text": [
      "\r44/112 43.37% complete 52.48 eval/s running 1s eta 1s"
     ]
    },
    {
     "name": "stdout",
     "output_type": "stream",
     "text": [
      "\r45/112 44.45% complete 50.45 eval/s running 1s eta 1s\r46/112 45.57% complete 51.24 eval/s running 1s eta 1s"
     ]
    },
    {
     "name": "stdout",
     "output_type": "stream",
     "text": [
      "\r47/112 46.66% complete 52.31 eval/s running 1s eta 1s"
     ]
    },
    {
     "name": "stdout",
     "output_type": "stream",
     "text": [
      "\r48/112 47.78% complete 51.16 eval/s running 1s eta 1s"
     ]
    },
    {
     "name": "stdout",
     "output_type": "stream",
     "text": [
      "\r48/112 47.78% complete 51.09 eval/s running 1s eta 1s"
     ]
    },
    {
     "name": "stdout",
     "output_type": "stream",
     "text": [
      "\r49/112 48.90% complete 51.10 eval/s running 1s eta 1s"
     ]
    },
    {
     "name": "stdout",
     "output_type": "stream",
     "text": [
      "\r50/112 49.99% complete 51.69 eval/s running 1s eta 1s"
     ]
    },
    {
     "name": "stdout",
     "output_type": "stream",
     "text": [
      "\r50/112 49.99% complete 50.19 eval/s running 1s eta 1s"
     ]
    },
    {
     "name": "stdout",
     "output_type": "stream",
     "text": [
      "\r51/112 51.08% complete 50.94 eval/s running 1s eta 1s"
     ]
    },
    {
     "name": "stdout",
     "output_type": "stream",
     "text": [
      "\r52/112 52.20% complete 50.30 eval/s running 1s eta 1s"
     ]
    },
    {
     "name": "stdout",
     "output_type": "stream",
     "text": [
      "\r53/112 53.29% complete 51.21 eval/s running 1s eta 1s"
     ]
    },
    {
     "name": "stdout",
     "output_type": "stream",
     "text": [
      "\r54/112 54.37% complete 51.11 eval/s running 1s eta 1s"
     ]
    },
    {
     "name": "stdout",
     "output_type": "stream",
     "text": [
      "\r55/112 55.50% complete 50.55 eval/s running 1s eta 1s"
     ]
    },
    {
     "name": "stdout",
     "output_type": "stream",
     "text": [
      "\r56/112 56.58% complete 49.74 eval/s running 1s eta 1s"
     ]
    },
    {
     "name": "stdout",
     "output_type": "stream",
     "text": [
      "\r55/112 55.50% complete 49.67 eval/s running 1s eta 1s"
     ]
    },
    {
     "name": "stdout",
     "output_type": "stream",
     "text": [
      "\r57/112 57.67% complete 50.59 eval/s running 1s eta 1s"
     ]
    },
    {
     "name": "stdout",
     "output_type": "stream",
     "text": [
      "\r58/112 58.76% complete 49.80 eval/s running 1s eta 1s"
     ]
    },
    {
     "name": "stdout",
     "output_type": "stream",
     "text": [
      "\r59/112 59.88% complete 49.11 eval/s running 1s eta 1s"
     ]
    },
    {
     "name": "stdout",
     "output_type": "stream",
     "text": [
      "\r60/112 60.97% complete 49.87 eval/s running 1s eta 1s"
     ]
    },
    {
     "name": "stdout",
     "output_type": "stream",
     "text": [
      "\r61/112 62.05% complete 49.80 eval/s running 1s eta 1s"
     ]
    },
    {
     "name": "stdout",
     "output_type": "stream",
     "text": [
      "\r62/112 63.14% complete 49.32 eval/s running 2s eta 1s"
     ]
    },
    {
     "name": "stdout",
     "output_type": "stream",
     "text": [
      "\r63/112 64.26% complete 48.79 eval/s running 2s eta 1s"
     ]
    },
    {
     "name": "stdout",
     "output_type": "stream",
     "text": [
      "\r64/112 65.35% complete 48.39 eval/s running 2s eta 1s"
     ]
    },
    {
     "name": "stdout",
     "output_type": "stream",
     "text": [
      "\r65/112 66.47% complete 48.71 eval/s running 2s eta 1s"
     ]
    },
    {
     "name": "stdout",
     "output_type": "stream",
     "text": [
      "\r66/112 67.56% complete 48.30 eval/s running 2s eta 1s\r67/112 68.68% complete 48.05 eval/s running 2s eta 1s"
     ]
    },
    {
     "name": "stdout",
     "output_type": "stream",
     "text": [
      "\r68/112 69.77% complete 48.75 eval/s running 2s eta 1s"
     ]
    },
    {
     "name": "stdout",
     "output_type": "stream",
     "text": [
      "\r69/112 70.89% complete 48.51 eval/s running 2s eta 1s"
     ]
    },
    {
     "name": "stdout",
     "output_type": "stream",
     "text": [
      "\r70/112 71.98% complete 48.70 eval/s running 2s eta 1s"
     ]
    },
    {
     "name": "stdout",
     "output_type": "stream",
     "text": [
      "\r70/112 71.98% complete 48.04 eval/s running 2s eta 1s"
     ]
    },
    {
     "name": "stdout",
     "output_type": "stream",
     "text": [
      "\r71/112 73.10% complete 48.67 eval/s running 2s eta 1s"
     ]
    },
    {
     "name": "stdout",
     "output_type": "stream",
     "text": [
      "\r72/112 74.22% complete 48.48 eval/s running 2s eta 1s"
     ]
    },
    {
     "name": "stdout",
     "output_type": "stream",
     "text": [
      "\r73/112 75.34% complete 48.63 eval/s running 2s eta 0s"
     ]
    },
    {
     "name": "stdout",
     "output_type": "stream",
     "text": [
      "\r74/112 76.46% complete 48.73 eval/s running 2s eta 0s"
     ]
    },
    {
     "name": "stdout",
     "output_type": "stream",
     "text": [
      "\r75/112 77.58% complete 48.87 eval/s running 2s eta 0s"
     ]
    },
    {
     "name": "stdout",
     "output_type": "stream",
     "text": [
      "\r76/112 78.70% complete 48.90 eval/s running 2s eta 0s"
     ]
    },
    {
     "name": "stdout",
     "output_type": "stream",
     "text": [
      "\r77/112 79.82% complete 49.06 eval/s running 2s eta 0s"
     ]
    },
    {
     "name": "stdout",
     "output_type": "stream",
     "text": [
      "\r78/112 80.94% complete 49.16 eval/s running 2s eta 0s"
     ]
    },
    {
     "name": "stdout",
     "output_type": "stream",
     "text": [
      "\r78/112 80.94% complete 48.62 eval/s running 2s eta 0s"
     ]
    },
    {
     "name": "stdout",
     "output_type": "stream",
     "text": [
      "\r79/112 82.06% complete 49.20 eval/s running 2s eta 0s"
     ]
    },
    {
     "name": "stdout",
     "output_type": "stream",
     "text": [
      "\r80/112 83.19% complete 49.08 eval/s running 2s eta 0s"
     ]
    },
    {
     "name": "stdout",
     "output_type": "stream",
     "text": [
      "\r81/112 84.31% complete 49.05 eval/s running 2s eta 0s"
     ]
    },
    {
     "name": "stdout",
     "output_type": "stream",
     "text": [
      "\r82/112 85.43% complete 49.11 eval/s running 2s eta 0s"
     ]
    },
    {
     "name": "stdout",
     "output_type": "stream",
     "text": [
      "\r83/112 86.55% complete 49.25 eval/s running 2s eta 0s"
     ]
    },
    {
     "name": "stdout",
     "output_type": "stream",
     "text": [
      "\r84/112 87.67% complete 49.25 eval/s running 2s eta 0s"
     ]
    },
    {
     "name": "stdout",
     "output_type": "stream",
     "text": [
      "\r85/112 88.79% complete 49.41 eval/s running 2s eta 0s"
     ]
    },
    {
     "name": "stdout",
     "output_type": "stream",
     "text": [
      "\r86/112 89.91% complete 49.50 eval/s running 2s eta 0s"
     ]
    },
    {
     "name": "stdout",
     "output_type": "stream",
     "text": [
      "\r87/112 91.03% complete 49.54 eval/s running 2s eta 0s"
     ]
    },
    {
     "name": "stdout",
     "output_type": "stream",
     "text": [
      "\r88/112 92.15% complete 49.61 eval/s running 2s eta 0s"
     ]
    },
    {
     "name": "stdout",
     "output_type": "stream",
     "text": [
      "\r89/112 93.27% complete 49.71 eval/s running 2s eta 0s"
     ]
    },
    {
     "name": "stdout",
     "output_type": "stream",
     "text": [
      "\r90/112 94.40% complete 49.37 eval/s running 2s eta 0s"
     ]
    },
    {
     "name": "stdout",
     "output_type": "stream",
     "text": [
      "\r91/112 95.52% complete 49.38 eval/s running 2s eta 0s"
     ]
    },
    {
     "name": "stdout",
     "output_type": "stream",
     "text": [
      "\r92/112 96.64% complete 49.42 eval/s running 2s eta 0s"
     ]
    },
    {
     "name": "stdout",
     "output_type": "stream",
     "text": [
      "\r93/112 97.76% complete 49.42 eval/s running 2s eta 0s"
     ]
    },
    {
     "name": "stdout",
     "output_type": "stream",
     "text": [
      "\r94/112 98.88% complete 49.57 eval/s running 2s eta 0s"
     ]
    },
    {
     "name": "stdout",
     "output_type": "stream",
     "text": [
      "\r95/112 100.00% complete 49.50 eval/s running 2s eta 0s"
     ]
    },
    {
     "name": "stdout",
     "output_type": "stream",
     "text": [
      "\r95/112 100.00% complete 49.02 eval/s running 2s eta 0s\r96/112 100.00% complete 49.49 eval/s running 2s eta 0s"
     ]
    },
    {
     "name": "stdout",
     "output_type": "stream",
     "text": [
      "\r97/112 100.00% complete 50.00 eval/s running 2s eta 0s"
     ]
    },
    {
     "name": "stdout",
     "output_type": "stream",
     "text": [
      "\r98/112 100.00% complete 50.48 eval/s running 2s eta 0s"
     ]
    },
    {
     "name": "stdout",
     "output_type": "stream",
     "text": [
      "\r99/112 100.00% complete 50.96 eval/s running 2s eta 0s"
     ]
    },
    {
     "name": "stdout",
     "output_type": "stream",
     "text": [
      "\r100/112 100.00% complete 51.44 eval/s running 2s eta 0s"
     ]
    },
    {
     "name": "stdout",
     "output_type": "stream",
     "text": [
      "\r101/112 100.00% complete 51.89 eval/s running 2s eta 0s"
     ]
    },
    {
     "name": "stdout",
     "output_type": "stream",
     "text": [
      "\r102/112 100.00% complete 52.32 eval/s running 2s eta 0s"
     ]
    },
    {
     "name": "stdout",
     "output_type": "stream",
     "text": [
      "\r103/112 100.00% complete 52.77 eval/s running 2s eta 0s"
     ]
    },
    {
     "name": "stdout",
     "output_type": "stream",
     "text": [
      "\r104/112 100.00% complete 53.21 eval/s running 2s eta 0s"
     ]
    },
    {
     "name": "stdout",
     "output_type": "stream",
     "text": [
      "\r105/112 100.00% complete 53.64 eval/s running 2s eta 0s"
     ]
    },
    {
     "name": "stdout",
     "output_type": "stream",
     "text": [
      "\r106/112 100.00% complete 54.09 eval/s running 2s eta 0s"
     ]
    },
    {
     "name": "stdout",
     "output_type": "stream",
     "text": [
      "\r107/112 100.00% complete 54.54 eval/s running 2s eta 0s"
     ]
    },
    {
     "name": "stdout",
     "output_type": "stream",
     "text": [
      "\r108/112 100.00% complete 54.92 eval/s running 2s eta 0s"
     ]
    },
    {
     "name": "stdout",
     "output_type": "stream",
     "text": [
      "\r109/112 100.00% complete 55.33 eval/s running 2s eta 0s"
     ]
    },
    {
     "name": "stdout",
     "output_type": "stream",
     "text": [
      "\r110/112 100.00% complete 55.73 eval/s running 2s eta 0s"
     ]
    },
    {
     "name": "stdout",
     "output_type": "stream",
     "text": [
      "\r111/112 100.00% complete 56.10 eval/s running 2s eta 0s"
     ]
    },
    {
     "name": "stdout",
     "output_type": "stream",
     "text": [
      "\r112/112 100.00% complete 56.51 eval/s running 2s eta 0s"
     ]
    },
    {
     "name": "stdout",
     "output_type": "stream",
     "text": [
      "\r112/112 100.00% complete 56.45 eval/s running 2s eta 0s"
     ]
    },
    {
     "name": "stdout",
     "output_type": "stream",
     "text": [
      "\nEvaluation in 1.990s\n\n\n2012-01-02 GAS\nPrice:    10.95\nDelta:    -0.03\nHedge:     0.03 ± 0.00\nCash:     -0.29 ± 0.07\n\n2012-01-02 POWER\nPrice:     1.00\nDelta:     0.01\nHedge:    -0.01 ± 0.00\nCash:      0.02 ± 0.02\n"
     ]
    },
    {
     "name": "stdout",
     "output_type": "stream",
     "text": [
      "\n2012-01-03 GAS\nPrice:     1.00\nDelta:    -0.98\nHedge:     1.00 ± 0.00\nCash:     -0.97 ± 0.01\n\n2012-01-03 POWER\nPrice:    10.95\nDelta:     0.32\nHedge:    -0.32 ± 0.00\nCash:      3.52 ± 0.08\n\n2012-01-04 POWER\nPrice:    10.95\nDelta:     0.97\nHedge:    -1.00 ± 0.00\nCash:     10.67 ± 0.07\n\n2012-01-04 GAS\nPrice:     1.00\nDelta:    -0.98\nHedge:     1.00 ± 0.00\nCash:     -0.97 ± 0.01\n\n"
     ]
    }
   ],
   "source": [
    "from quantdsl.interfaces.calcandplot import calc_print\n",
    "\n",
    "results = calc_print(\n",
    "    source_code=(\"from powerplant import PowerPlant, Cold, Date\\n\"\n",
    "                 \"PowerPlant(Date('2012-1-1'), Date('2012-1-5'), Cold())\"),\n",
    "    observation_date='2011-1-1',\n",
    "    interest_rate=2.5,\n",
    "    periodisation='daily',\n",
    "    price_process=gas_and_power,\n",
    "    verbose=True\n",
    ")"
   ]
  },
  {
   "cell_type": "code",
   "execution_count": null,
   "metadata": {},
   "outputs": [],
   "source": []
  }
 ],
 "metadata": {
  "kernelspec": {
   "display_name": "Python 2",
   "language": "python",
   "name": "python2"
  },
  "language_info": {
   "codemirror_mode": {
    "name": "ipython",
    "version": 2
   },
   "file_extension": ".py",
   "mimetype": "text/x-python",
   "name": "python",
   "nbconvert_exporter": "python",
   "pygments_lexer": "ipython2",
   "version": "2.7.6"
  }
 },
 "nbformat": 4,
 "nbformat_minor": 0
}
