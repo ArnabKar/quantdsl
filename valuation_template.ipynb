{
 "cells": [
  {
   "cell_type": "code",
   "execution_count": null,
   "metadata": {
    "collapsed": true
   },
   "outputs": [],
   "source": [
    "!pip install quantdsl"
   ]
  },
  {
   "cell_type": "code",
   "execution_count": null,
   "metadata": {},
   "outputs": [],
   "source": [
    "%%writefile powerplant.py\n",
    "from quantdsl.semantics import Choice, TimeDelta, Wait, inline\n",
    "\n",
    "\n",
    "def PowerPlant(start, end, temp):\n",
    "    if (start < end):\n",
    "        Wait(start, Choice(\n",
    "            PowerPlant(Tomorrow(start), end, Hot()) + ProfitFromRunning(start, temp),\n",
    "            PowerPlant(Tomorrow(start), end, Stopped(temp))\n",
    "        ))\n",
    "    else:\n",
    "        return 0\n",
    "\n",
    "\n",
    "@inline\n",
    "def Power(start):\n",
    "    DayAhead(start, 'POWER')\n",
    "\n",
    "\n",
    "@inline\n",
    "def Gas(start):\n",
    "    DayAhead(start, 'GAS')\n",
    "\n",
    "\n",
    "@inline\n",
    "def DayAhead(start, name):\n",
    "    ForwardMarket(Tomorrow(start), name)\n",
    "\n",
    "    \n",
    "@inline\n",
    "def Tomorrow(start):\n",
    "    start + TimeDelta('1d')\n",
    "\n",
    "\n",
    "@inline\n",
    "def ProfitFromRunning(start, temp):\n",
    "    if temp == Cold():\n",
    "        return 0.3 * Power(start) - Gas(start)\n",
    "    elif temp == Warm():\n",
    "        return 0.6 * Power(start) - Gas(start)\n",
    "    else:\n",
    "        return Power(start) - Gas(start)\n",
    "\n",
    "\n",
    "@inline\n",
    "def Stopped(temp):\n",
    "    if temp == Hot():\n",
    "        Warm()\n",
    "    else:\n",
    "        Cold()\n",
    "\n",
    "\n",
    "@inline\n",
    "def Hot():\n",
    "    2\n",
    "\n",
    "\n",
    "@inline\n",
    "def Warm():\n",
    "    1\n",
    "\n",
    "\n",
    "@inline\n",
    "def Cold():\n",
    "    0\n"
   ]
  },
  {
   "cell_type": "code",
   "execution_count": null,
   "metadata": {},
   "outputs": [],
   "source": [
    "gas_and_power = {\n",
    "    'name': 'quantdsl.priceprocess.blackscholes.BlackScholesPriceProcess',\n",
    "    'market': ['GAS', 'POWER'],\n",
    "    'sigma': [0.3, 0.3],\n",
    "    'rho': [[1.0, 0.8], [0.8, 1.0]],\n",
    "    'curve': {\n",
    "            'GAS': [\n",
    "                ('2012-1-1', 11.0),\n",
    "                ('2012-1-2', 11.0),\n",
    "                ('2012-1-3', 1.0),\n",
    "                ('2012-1-4', 1.0),\n",
    "                ('2012-1-5', 11.0),\n",
    "            ],\n",
    "            'POWER': [\n",
    "                ('2012-1-1', 1.0),\n",
    "                ('2012-1-2', 1.0),\n",
    "                ('2012-1-3', 11.0),\n",
    "                ('2012-1-4', 11.0),\n",
    "                ('2012-1-5', 10.0),\n",
    "            ]\n",
    "        }\n",
    "}"
   ]
  },
  {
   "cell_type": "code",
   "execution_count": null,
   "metadata": {},
   "outputs": [],
   "source": [
    "from quantdsl.interfaces.calcandplot import calc_print\n",
    "\n",
    "results = calc_print(\n",
    "    source_code=(\"from powerplant import PowerPlant, Cold, Date\\n\"\n",
    "                 \"PowerPlant(Date('2012-1-1'), Date('2012-1-5'), Cold())\"),\n",
    "    observation_date='2011-1-1',\n",
    "    interest_rate=2.5,\n",
    "    periodisation='daily',\n",
    "    price_process=gas_and_power,\n",
    "    verbose=True\n",
    ")"
   ]
  }
 ],
 "metadata": {
  "kernelspec": {
   "display_name": "Python 3",
   "language": "python",
   "name": "python3"
  },
  "language_info": {
   "codemirror_mode": {
    "name": "ipython",
    "version": 3
   },
   "file_extension": ".py",
   "mimetype": "text/x-python",
   "name": "python",
   "nbconvert_exporter": "python",
   "pygments_lexer": "ipython3",
   "version": "3.6.3"
  }
 },
 "nbformat": 4,
 "nbformat_minor": 0
}
