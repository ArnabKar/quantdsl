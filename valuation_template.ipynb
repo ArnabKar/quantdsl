{
 "cells": [
  {
   "cell_type": "code",
   "execution_count": null,
   "metadata": {
    "collapsed": true
   },
   "outputs": [],
   "source": [
    "!pip install quantdsl"
   ]
  },
  {
   "cell_type": "code",
   "execution_count": null,
   "metadata": {},
   "outputs": [],
   "source": [
    "from quantdsl import calc\n",
    "\n",
    "contract_model = \"\"\"\n",
    "from quantdsl.lib.powerplant2 import PowerPlant, Hot, Cold\n",
    "        \n",
    "PowerPlant(Date('2012-1-1'), Date('2012-1-12'), Cold())\n",
    "\"\"\"\n",
    "\n",
    "market_model = {\n",
    "    'name': 'quantdsl.priceprocess.blackscholes.BlackScholesPriceProcess',\n",
    "    'market': ['GAS', 'POWER'],\n",
    "    'sigma': [0.1, 0.1],\n",
    "    'rho': [[1.0, 0.8], [0.8, 1.0]],\n",
    "    'curve': {\n",
    "        'GAS': [\n",
    "            ('2011-1-1', 1),\n",
    "            ('2012-1-1', 13.5),\n",
    "            ('2012-1-2', 19.4),\n",
    "            ('2012-1-3', 10.5),\n",
    "            ('2012-1-4', 10.3),\n",
    "            ('2012-1-5', 10.1),\n",
    "            ('2012-1-6', 10.2),\n",
    "        ],\n",
    "        'POWER': [\n",
    "            ('2011-1-1', 11),\n",
    "            ('2012-1-1', 15.5),\n",
    "            ('2012-1-2', 14.0),\n",
    "            ('2012-1-3', 15.0),\n",
    "            ('2012-1-4', 11.0),\n",
    "            ('2012-1-5', 1.0),\n",
    "            ('2012-1-6', 15.0),\n",
    "        ]\n",
    "    }\n",
    "}\n",
    "\n",
    "results = calc(contract_model,\n",
    "    price_process=market_model,\n",
    "    observation_date='2011-1-1',\n",
    "    interest_rate=2.5,\n",
    "    periodisation='daily',\n",
    "    verbose=True\n",
    ")\n",
    "\n",
    "results.plot()"
   ]
  }
 ],
 "metadata": {
  "kernelspec": {
   "display_name": "Python 3",
   "language": "python",
   "name": "python3"
  },
  "language_info": {
   "codemirror_mode": {
    "name": "ipython",
    "version": 3
   },
   "file_extension": ".py",
   "mimetype": "text/x-python",
   "name": "python",
   "nbconvert_exporter": "python",
   "pygments_lexer": "ipython3",
   "version": "3.6.3"
  }
 },
 "nbformat": 4,
 "nbformat_minor": 0
}
